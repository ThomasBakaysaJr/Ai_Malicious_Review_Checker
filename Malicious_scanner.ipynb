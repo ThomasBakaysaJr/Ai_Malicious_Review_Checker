{
 "cells": [
  {
   "cell_type": "code",
   "execution_count": 38,
   "id": "38c27c4a-6317-4f60-84e4-a6d8adf213a8",
   "metadata": {},
   "outputs": [],
   "source": [
    "import pandas as pd\n",
    "import numpy as np"
   ]
  },
  {
   "cell_type": "code",
   "execution_count": 39,
   "id": "4df78d75-523a-4833-840d-36acd5b1e085",
   "metadata": {},
   "outputs": [],
   "source": [
    "# this should probably be on a seperate cell so I don't constantly reload the dataframes\n",
    "# constants so I don't have to keep changing names\n",
    "BS = 'business'\n",
    "CH = 'checkin'\n",
    "TI = 'tip'\n",
    "RW = 'review'\n",
    "US = 'user'\n",
    "\n",
    "# load files in (right now I'm skipping the reviews part cause it's big and my work laptop doens't have the space)\n",
    "fDefPath = 'reviews/yelpReviews/yelp_academic_dataset_'\n",
    "fYelpNames = [BS, CH, TI]\n"
   ]
  },
  {
   "cell_type": "code",
   "execution_count": 40,
   "id": "14af4542-2e89-4f33-ae32-7c33f6cca40c",
   "metadata": {},
   "outputs": [
    {
     "name": "stdout",
     "output_type": "stream",
     "text": [
      "Index(['business_id', 'name', 'address', 'city', 'state', 'postal_code',\n",
      "       'latitude', 'longitude', 'stars', 'review_count', 'is_open',\n",
      "       'attributes', 'categories', 'hours'],\n",
      "      dtype='object')\n",
      "Index(['business_id', 'date'], dtype='object')\n",
      "Index(['user_id', 'business_id', 'text', 'date', 'compliment_count'], dtype='object')\n"
     ]
    }
   ],
   "source": [
    "fdf = {}\n",
    "\n",
    "# load the datasets\n",
    "for name in fYelpNames:\n",
    "    fPath = f'{fDefPath}{name}.json'\n",
    "    fdf[name] = pd.read_json(fPath, lines=True)\n",
    "\n",
    "for name in fYelpNames:\n",
    "    print(fdf[name].columns)"
   ]
  },
  {
   "cell_type": "code",
   "execution_count": 47,
   "id": "99a98437-d404-4423-b802-c79eaf027cc8",
   "metadata": {},
   "outputs": [
    {
     "name": "stdout",
     "output_type": "stream",
     "text": [
      "categoryList\n",
      "restaurants                  52268\n",
      "food                         27781\n",
      "shopping                     24395\n",
      "home services                14356\n",
      "beauty & spas                14292\n",
      "nightlife                    12281\n",
      "health & medical             11890\n",
      "local services               11198\n",
      "bars                         11065\n",
      "automotive                   10773\n",
      "event planning & services     9895\n",
      "sandwiches                    8366\n",
      "american (traditional)        8139\n",
      "active life                   7687\n",
      "pizza                         7093\n",
      "coffee & tea                  6703\n",
      "fast food                     6472\n",
      "breakfast & brunch            6239\n",
      "american (new)                6097\n",
      "hotels & travel               5857\n",
      "home & garden                 5799\n",
      "fashion                       5739\n",
      "burgers                       5636\n",
      "arts & entertainment          5434\n",
      "auto repair                   5433\n",
      "hair salons                   5046\n",
      "nail salons                   4621\n",
      "mexican                       4600\n",
      "italian                       4573\n",
      "specialty food                4233\n",
      "doctors                       3763\n",
      "pets                          3758\n",
      "real estate                   3577\n",
      "seafood                       3539\n",
      "fitness & instruction         3293\n",
      "professional services         3270\n",
      "hair removal                  3239\n",
      "desserts                      3186\n",
      "chinese                       3169\n",
      "bakeries                      3150\n",
      "grocery                       3139\n",
      "salad                         3064\n",
      "hotels                        2977\n",
      "chicken wings                 2966\n",
      "cafes                         2756\n",
      "ice cream & frozen yogurt     2657\n",
      "caterers                      2645\n",
      "pet services                  2626\n",
      "dentists                      2528\n",
      "skin care                     2498\n",
      "Name: count, dtype: int64\n"
     ]
    }
   ],
   "source": [
    "bsdf = fdf[BS].dropna(subset=[\"categories\"]).copy()\n",
    "bsdf.loc[:,\"categoryList\"] = bsdf.loc[:,\"categories\"].str.split(\", \")\n",
    "\n",
    "# Flatten and count unique categories\n",
    "allCategories = bsdf[\"categoryList\"].explode().str.lower()\n",
    "categoryCounts = allCategories.value_counts()\n",
    "\n",
    "# Preview common categories\n",
    "print(categoryCounts.head(50))"
   ]
  },
  {
   "cell_type": "code",
   "execution_count": 50,
   "id": "c8550a36-f4bd-4970-b5fb-79336c7b6b30",
   "metadata": {},
   "outputs": [
    {
     "data": {
      "text/plain": [
       "58                                      Roman Forum\n",
       "61                                       Twin Peaks\n",
       "64       Doc Magrogan's Oyster House - West Chester\n",
       "79                          Top Shelf Sports Lounge\n",
       "99                           Ricardo's Italian Cafe\n",
       "110                                Sunset 44 Bistro\n",
       "181     Gaylord Opryland Resort & Convention Center\n",
       "198                                    Aussie Grill\n",
       "231                     Eat Mah Taco @ Pal's Lounge\n",
       "247                        The Libertine Liquor Bar\n",
       "372                                        The Love\n",
       "386                                Ryan Christopher\n",
       "443                                The Twisted Tail\n",
       "461                                     Local Links\n",
       "476                                    Garage Pizza\n",
       "502                            NY Bagel Cafe & Deli\n",
       "524                                Whetstone Tavern\n",
       "537                                      The Bricks\n",
       "557                             Reno Downtown Joint\n",
       "559                                   Smoke & Thyme\n",
       "625                                   Creekside Inn\n",
       "627                          Snellgroves Restaurant\n",
       "634                        Adventure Coast Fun Park\n",
       "636                     Granite City Food & Brewery\n",
       "689              Jackson's Bar & Bistro - Nashville\n",
       "762                         Golden River Restaurant\n",
       "781                                    India Palace\n",
       "783                                      Saladworks\n",
       "857                                 Capitol Cellars\n",
       "920                            Stokehold Restaurant\n",
       "934                               Noodles & Company\n",
       "951                                            Cosi\n",
       "968                                Rockabilly Grill\n",
       "1015                           Caleco's Bar & Grill\n",
       "1034                       Rumours Wine and Art Bar\n",
       "1044                           National Underground\n",
       "1057            Basically Buttercream Bakery & Cafe\n",
       "1060                           August Rhodes Bakery\n",
       "1088                            Chili's Texas Grill\n",
       "1109                         Fullylove’s Restaurant\n",
       "1173                               Belle Restaurant\n",
       "1175                   Harvest Bowl Eatery & Market\n",
       "1180                            Moxie's Grill & Bar\n",
       "1185                              An American Place\n",
       "1210                                    Cafe Jasper\n",
       "1211                                     Wheel Cafe\n",
       "1220                                Madison's Grill\n",
       "1274                            8th & Union Kitchen\n",
       "1303                               Stonefire Tavern\n",
       "1311                                  Reno Tap Room\n",
       "Name: name, dtype: object"
      ]
     },
     "execution_count": 50,
     "metadata": {},
     "output_type": "execute_result"
    }
   ],
   "source": [
    "# finding what american new means\n",
    "bsdf[bsdf[\"categories\"].str.contains(r\"American \\(New\\)\", na=False)].name.head(50)\n"
   ]
  },
  {
   "cell_type": "code",
   "execution_count": 51,
   "id": "c3592587-ae61-441f-8884-14a9dd1515f1",
   "metadata": {},
   "outputs": [],
   "source": [
    "# create a manual category for now\n",
    "categoryMap = {\n",
    "    'restaurants' : {'restaurants', 'food', 'sandwiches', 'american (new)', 'american (traditional)'},\n",
    "    'retail' : {'shopping', 'home & garden', 'fashion', 'real estate', 'grocery'},\n",
    "    'beauty' : {'beauty & spas', 'hair salons', 'nail salons'},\n",
    "    'auto' : {'automotive', 'auto repair'},\n",
    "    'services' : {'home services', 'local services', 'event planning & services'},\n",
    "    'fitness' : {'active life', 'fitness & instruction'},\n",
    "    'health' : {'health & medical', 'doctors', 'dentist'},\n",
    "    'nightlife' : {'nightlife', 'bars'},\n",
    "    'lodging' : {'hotesl & travel', 'hotels'}\n",
    "}"
   ]
  },
  {
   "cell_type": "code",
   "execution_count": null,
   "id": "1e91e432-2083-497b-b2bf-37d72e3e2eef",
   "metadata": {},
   "outputs": [],
   "source": []
  }
 ],
 "metadata": {
  "kernelspec": {
   "display_name": "Python 3 (ipykernel)",
   "language": "python",
   "name": "python3"
  },
  "language_info": {
   "codemirror_mode": {
    "name": "ipython",
    "version": 3
   },
   "file_extension": ".py",
   "mimetype": "text/x-python",
   "name": "python",
   "nbconvert_exporter": "python",
   "pygments_lexer": "ipython3",
   "version": "3.12.4"
  }
 },
 "nbformat": 4,
 "nbformat_minor": 5
}
