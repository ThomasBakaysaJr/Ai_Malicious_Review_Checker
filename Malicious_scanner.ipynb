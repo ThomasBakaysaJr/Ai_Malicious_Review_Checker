{
 "cells": [
  {
   "cell_type": "code",
   "execution_count": 1,
   "id": "38c27c4a-6317-4f60-84e4-a6d8adf213a8",
   "metadata": {},
   "outputs": [],
   "source": [
    "import pandas as pd\n",
    "import numpy as np"
   ]
  },
  {
   "cell_type": "code",
   "execution_count": 6,
   "id": "4df78d75-523a-4833-840d-36acd5b1e085",
   "metadata": {},
   "outputs": [],
   "source": [
    "# this should probably be on a seperate cell so I don't constantly reload the dataframes\n",
    "# constants so I don't have to keep changing names\n",
    "BS = 'business'\n",
    "CH = 'checkin'\n",
    "TI = 'tip'\n",
    "RW = 'review'\n",
    "US = 'user'\n",
    "\n",
    "# load files in (right now I'm skipping the reviews part cause it's big and my work laptop doens't have the space)\n",
    "fDefPath = 'reviews/yelpReviews/yelp_academic_dataset_'\n",
    "fYelpNames = [BS, CH, TI]\n"
   ]
  },
  {
   "cell_type": "code",
   "execution_count": 5,
   "id": "14af4542-2e89-4f33-ae32-7c33f6cca40c",
   "metadata": {},
   "outputs": [
    {
     "name": "stdout",
     "output_type": "stream",
     "text": [
      "Index(['business_id', 'name', 'address', 'city', 'state', 'postal_code',\n",
      "       'latitude', 'longitude', 'stars', 'review_count', 'is_open',\n",
      "       'attributes', 'categories', 'hours'],\n",
      "      dtype='object')\n",
      "Index(['business_id', 'date'], dtype='object')\n",
      "Index(['user_id', 'business_id', 'text', 'date', 'compliment_count'], dtype='object')\n"
     ]
    }
   ],
   "source": [
    "fdf = {}\n",
    "\n",
    "# load the datasets\n",
    "for name in fYelpNames:\n",
    "    fPath = f'{fDefPath}{name}.json'\n",
    "    fdf[name] = pd.read_json(fPath, lines=True)\n",
    "\n",
    "for name in fYelpNames:\n",
    "    print(fdf[name].columns)"
   ]
  },
  {
   "cell_type": "code",
   "execution_count": null,
   "id": "99a98437-d404-4423-b802-c79eaf027cc8",
   "metadata": {},
   "outputs": [],
   "source": []
  }
 ],
 "metadata": {
  "kernelspec": {
   "display_name": "Python 3 (ipykernel)",
   "language": "python",
   "name": "python3"
  },
  "language_info": {
   "codemirror_mode": {
    "name": "ipython",
    "version": 3
   },
   "file_extension": ".py",
   "mimetype": "text/x-python",
   "name": "python",
   "nbconvert_exporter": "python",
   "pygments_lexer": "ipython3",
   "version": "3.12.4"
  }
 },
 "nbformat": 4,
 "nbformat_minor": 5
}
