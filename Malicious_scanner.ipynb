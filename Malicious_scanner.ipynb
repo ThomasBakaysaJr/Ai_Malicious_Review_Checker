{
 "cells": [
  {
   "cell_type": "code",
   "execution_count": 11,
   "id": "38c27c4a-6317-4f60-84e4-a6d8adf213a8",
   "metadata": {},
   "outputs": [],
   "source": [
    "import pandas as pd\n",
    "import numpy as np\n",
    "import json"
   ]
  },
  {
   "cell_type": "code",
   "execution_count": 13,
   "id": "4df78d75-523a-4833-840d-36acd5b1e085",
   "metadata": {},
   "outputs": [],
   "source": [
    "# this should probably be on a seperate cell so I don't constantly reload the dataframes\n",
    "fDefPath = 'reviews/yelpReviews/yelp_academic_dataset_'\n",
    "# constants so I don't have to keep changing names\n",
    "BS = 'business'\n",
    "CH = 'checkin'\n",
    "TI = 'tip'\n",
    "RW = 'review'\n",
    "US = 'user'\n",
    "\n",
    "# constants for the file path\n",
    "bspath = f'{fDefPath}{BS}.json'\n",
    "chpath = f'{fDefPath}{CH}.json'\n",
    "tipath = f'{fDefPath}{TI}.json'\n",
    "rwpath = f'{fDefPath}{RW}.json'\n",
    "uspath = f'{fDefPath}{US}.json'\n",
    "\n",
    "# load files in (right now I'm skipping the reviews part cause it's big and my work laptop doens't have the space)\n",
    "fYelpNames = [bspath, chpath, tipath]\n"
   ]
  },
  {
   "cell_type": "code",
   "execution_count": 3,
   "id": "14af4542-2e89-4f33-ae32-7c33f6cca40c",
   "metadata": {},
   "outputs": [
    {
     "name": "stdout",
     "output_type": "stream",
     "text": [
      "Index(['business_id', 'name', 'address', 'city', 'state', 'postal_code',\n",
      "       'latitude', 'longitude', 'stars', 'review_count', 'is_open',\n",
      "       'attributes', 'categories', 'hours'],\n",
      "      dtype='object')\n",
      "Index(['business_id', 'date'], dtype='object')\n",
      "Index(['user_id', 'business_id', 'text', 'date', 'compliment_count'], dtype='object')\n"
     ]
    }
   ],
   "source": [
    "fdf = {}\n",
    "\n",
    "# load the datasets\n",
    "#CHANGE THIS, LETS NOT LOAD THIS THINGS INTO A DICTIONARY\n",
    "for name in fYelpNames:\n",
    "    fPath = f'{fDefPath}{name}.json'\n",
    "    fdf[name] = pd.read_json(fPath, lines=True)\n",
    "\n",
    "for name in fYelpNames:\n",
    "    print(fdf[name].columns)"
   ]
  },
  {
   "cell_type": "code",
   "execution_count": 4,
   "id": "99a98437-d404-4423-b802-c79eaf027cc8",
   "metadata": {},
   "outputs": [
    {
     "name": "stdout",
     "output_type": "stream",
     "text": [
      "categoryList\n",
      "restaurants                  52268\n",
      "food                         27781\n",
      "shopping                     24395\n",
      "home services                14356\n",
      "beauty & spas                14292\n",
      "nightlife                    12281\n",
      "health & medical             11890\n",
      "local services               11198\n",
      "bars                         11065\n",
      "automotive                   10773\n",
      "event planning & services     9895\n",
      "sandwiches                    8366\n",
      "american (traditional)        8139\n",
      "active life                   7687\n",
      "pizza                         7093\n",
      "coffee & tea                  6703\n",
      "fast food                     6472\n",
      "breakfast & brunch            6239\n",
      "american (new)                6097\n",
      "hotels & travel               5857\n",
      "home & garden                 5799\n",
      "fashion                       5739\n",
      "burgers                       5636\n",
      "arts & entertainment          5434\n",
      "auto repair                   5433\n",
      "hair salons                   5046\n",
      "nail salons                   4621\n",
      "mexican                       4600\n",
      "italian                       4573\n",
      "specialty food                4233\n",
      "doctors                       3763\n",
      "pets                          3758\n",
      "real estate                   3577\n",
      "seafood                       3539\n",
      "fitness & instruction         3293\n",
      "professional services         3270\n",
      "hair removal                  3239\n",
      "desserts                      3186\n",
      "chinese                       3169\n",
      "bakeries                      3150\n",
      "grocery                       3139\n",
      "salad                         3064\n",
      "hotels                        2977\n",
      "chicken wings                 2966\n",
      "cafes                         2756\n",
      "ice cream & frozen yogurt     2657\n",
      "caterers                      2645\n",
      "pet services                  2626\n",
      "dentists                      2528\n",
      "skin care                     2498\n",
      "Name: count, dtype: int64\n"
     ]
    }
   ],
   "source": [
    "bsdf = fdf[BS].dropna(subset=[\"categories\"]).copy()\n",
    "bsdf['categories'] = bsdf['categories'].str.lower()\n",
    "bsdf.loc[:,\"categoryList\"] = bsdf.loc[:,\"categories\"].str.split(\", \")\n",
    "\n",
    "# Flatten and count unique categories\n",
    "allCategories = bsdf[\"categoryList\"].explode().str.lower()\n",
    "categoryCounts = allCategories.value_counts()\n",
    "\n",
    "# Preview common categories\n",
    "print(categoryCounts.head(50))"
   ]
  },
  {
   "cell_type": "code",
   "execution_count": 9,
   "id": "c8550a36-f4bd-4970-b5fb-79336c7b6b30",
   "metadata": {},
   "outputs": [],
   "source": [
    "# finding what american new means\n",
    "#bsdf[bsdf[\"categories\"].str.contains(r\"american \\(new\\)\", na=False)].name.head(50)\n"
   ]
  },
  {
   "cell_type": "code",
   "execution_count": 6,
   "id": "c3592587-ae61-441f-8884-14a9dd1515f1",
   "metadata": {},
   "outputs": [],
   "source": [
    "# create a manual dictionary for now\n",
    "categoryMap = {\n",
    "    # removed food, too broad, was catching grocery stores\n",
    "    'restaurants': {'restaurants', 'sandwiches', 'american (new)', 'american (traditional)', 'pizza', 'bakeries', 'desserts', 'cafes', 'breakfast & brunch'},\n",
    "    'retail': {'shopping', 'home & garden', 'fashion', 'real estate', 'grocery', 'department stores', 'electronics', 'toys'},\n",
    "    'beauty': {'beauty & spas', 'hair salons', 'nail salons', 'massage', 'skin care', 'makeup artists'},\n",
    "    'auto': {'automotive', 'auto repair'},\n",
    "    'services': {'home services', 'local services', 'event planning & services'},\n",
    "    'fitness': {'active life', 'fitness & instruction', 'gyms', 'yoga', 'martial arts'},\n",
    "    'health': {'health & medical', 'doctors', 'dentists'},\n",
    "    'pets': {'veterinarians', 'pet services', 'pets'},\n",
    "    'nightlife': {'nightlife', 'bars', 'lounges', 'dance clubs', 'karaoke'},\n",
    "    'travel': {'hotels & travel', 'hotels', 'tours'},\n",
    "    'religious': {'religious organizations', 'synagogues'},\n",
    "    'entertainment': {'festivals', 'arts & entertainment', 'television', 'mass media', 'museums', 'music venues', 'cinema', 'theaters'},\n",
    "    'finance': {'banks & credit unions', 'financial services'},\n",
    "    'legal': {'dui law', 'lawyers'},\n",
    "    'government': {'public services & government', 'libraries'},\n",
    "    'education': {'education'},\n",
    "    'professional services': {'employment agencies', 'professional services'}\n",
    "}\n"
   ]
  },
  {
   "cell_type": "code",
   "execution_count": 7,
   "id": "1e91e432-2083-497b-b2bf-37d72e3e2eef",
   "metadata": {},
   "outputs": [],
   "source": [
    "def matchBroadCategory(catList):\n",
    "    for broadCat, keywords in categoryMap.items():\n",
    "        if any(cat in keywords for cat in catList):\n",
    "            return broadCat\n",
    "    return \"other\"\n",
    "\n",
    "bsdf[\"broadCategory\"] = bsdf[\"categoryList\"].apply(matchBroadCategory)\n"
   ]
  },
  {
   "cell_type": "code",
   "execution_count": 8,
   "id": "aac8e5e5-43c9-4f30-bb0e-cf645ea5529e",
   "metadata": {},
   "outputs": [],
   "source": [
    "fileName = 'categorized.csv'\n",
    "bsdf[['name','categoryList','broadCategory']].to_csv(fileName)"
   ]
  },
  {
   "cell_type": "code",
   "execution_count": 17,
   "id": "97952fa4-e0dd-4fd0-a3cf-b4bbe5f79fa7",
   "metadata": {},
   "outputs": [
    {
     "data": {
      "text/plain": [
       "Index(['review_id', 'user_id', 'business_id', 'stars', 'useful', 'funny',\n",
       "       'cool', 'text', 'date'],\n",
       "      dtype='object')"
      ]
     },
     "execution_count": 17,
     "metadata": {},
     "output_type": "execute_result"
    }
   ],
   "source": [
    "# Reviews to looks at\n",
    "sample_size = 10000\n",
    "reviews = []\n",
    "with open(rwpath, 'r', encoding='utf-8') as f:\n",
    "    for i, line in enumerate(f):\n",
    "        if i >= sample_size:\n",
    "            break\n",
    "        reviews.append(json.loads(line))\n",
    "\n",
    "rdf = pd.DataFrame(reviews)\n",
    "rdf.columns"
   ]
  },
  {
   "cell_type": "code",
   "execution_count": null,
   "id": "b98fca39-ed38-4c08-a912-c47f0e803266",
   "metadata": {},
   "outputs": [],
   "source": []
  }
 ],
 "metadata": {
  "kernelspec": {
   "display_name": "Python 3 (ipykernel)",
   "language": "python",
   "name": "python3"
  },
  "language_info": {
   "codemirror_mode": {
    "name": "ipython",
    "version": 3
   },
   "file_extension": ".py",
   "mimetype": "text/x-python",
   "name": "python",
   "nbconvert_exporter": "python",
   "pygments_lexer": "ipython3",
   "version": "3.12.4"
  }
 },
 "nbformat": 4,
 "nbformat_minor": 5
}
