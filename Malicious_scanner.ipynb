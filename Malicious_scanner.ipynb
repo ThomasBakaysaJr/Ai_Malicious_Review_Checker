{
 "cells": [
  {
   "cell_type": "code",
   "execution_count": 2,
   "id": "38c27c4a-6317-4f60-84e4-a6d8adf213a8",
   "metadata": {},
   "outputs": [],
   "source": [
    "import pandas as pd\n",
    "import numpy as np\n",
    "import json"
   ]
  },
  {
   "cell_type": "code",
   "execution_count": 3,
   "id": "4df78d75-523a-4833-840d-36acd5b1e085",
   "metadata": {},
   "outputs": [],
   "source": [
    "# this should probably be on a seperate cell so I don't constantly reload the dataframes\n",
    "fDefPath = 'reviews/yelpReviews/yelp_academic_dataset_'\n",
    "# constants so I don't have to keep changing names\n",
    "BS = 'business'\n",
    "CH = 'checkin'\n",
    "TI = 'tip'\n",
    "RW = 'review'\n",
    "US = 'user'\n",
    "\n",
    "# constants for the file path\n",
    "bspath = f'{fDefPath}{BS}.json'\n",
    "chpath = f'{fDefPath}{CH}.json'\n",
    "tipath = f'{fDefPath}{TI}.json'\n",
    "rwpath = f'{fDefPath}{RW}.json'\n",
    "uspath = f'{fDefPath}{US}.json'\n"
   ]
  },
  {
   "cell_type": "code",
   "execution_count": 13,
   "id": "14af4542-2e89-4f33-ae32-7c33f6cca40c",
   "metadata": {},
   "outputs": [],
   "source": [
    "# load the datasets\n",
    "bsdf = pd.read_json(bspath, lines=True"
   ]
  },
  {
   "cell_type": "code",
   "execution_count": 5,
   "id": "99a98437-d404-4423-b802-c79eaf027cc8",
   "metadata": {},
   "outputs": [],
   "source": [
    "bsdf = bsdf.dropna(subset=[\"categories\"]).copy()\n",
    "bsdf['categories'] = bsdf['categories'].str.lower()\n",
    "bsdf.loc[:,\"categoryList\"] = bsdf.loc[:,\"categories\"].str.split(\", \")\n",
    "\n",
    "# Flatten and count unique categories\n",
    "allCategories = bsdf[\"categoryList\"].explode().str.lower()\n",
    "categoryCounts = allCategories.value_counts()\n",
    "\n",
    "# Preview common categories\n",
    "#print(categoryCounts.head(50))"
   ]
  },
  {
   "cell_type": "code",
   "execution_count": 9,
   "id": "c8550a36-f4bd-4970-b5fb-79336c7b6b30",
   "metadata": {},
   "outputs": [],
   "source": [
    "# finding what american new means\n",
    "#bsdf[bsdf[\"categories\"].str.contains(r\"american \\(new\\)\", na=False)].name.head(50)\n"
   ]
  },
  {
   "cell_type": "code",
   "execution_count": 6,
   "id": "c3592587-ae61-441f-8884-14a9dd1515f1",
   "metadata": {},
   "outputs": [],
   "source": [
    "# create a manual dictionary for now\n",
    "categoryMap = {\n",
    "    # removed food, too broad, was catching grocery stores\n",
    "    'restaurants': {'restaurants', 'sandwiches', 'american (new)', 'american (traditional)', 'pizza', 'bakeries', 'desserts', 'cafes', 'breakfast & brunch'},\n",
    "    'retail': {'shopping', 'home & garden', 'fashion', 'real estate', 'grocery', 'department stores', 'electronics', 'toys'},\n",
    "    'beauty': {'beauty & spas', 'hair salons', 'nail salons', 'massage', 'skin care', 'makeup artists'},\n",
    "    'auto': {'automotive', 'auto repair'},\n",
    "    'services': {'home services', 'local services', 'event planning & services'},\n",
    "    'fitness': {'active life', 'fitness & instruction', 'gyms', 'yoga', 'martial arts'},\n",
    "    'health': {'health & medical', 'doctors', 'dentists'},\n",
    "    'pets': {'veterinarians', 'pet services', 'pets'},\n",
    "    'nightlife': {'nightlife', 'bars', 'lounges', 'dance clubs', 'karaoke'},\n",
    "    'travel': {'hotels & travel', 'hotels', 'tours'},\n",
    "    'religious': {'religious organizations', 'synagogues'},\n",
    "    'entertainment': {'festivals', 'arts & entertainment', 'television', 'mass media', 'museums', 'music venues', 'cinema', 'theaters'},\n",
    "    'finance': {'banks & credit unions', 'financial services'},\n",
    "    'legal': {'dui law', 'lawyers'},\n",
    "    'government': {'public services & government', 'libraries'},\n",
    "    'education': {'education'},\n",
    "    'professional services': {'employment agencies', 'professional services'}\n",
    "}\n"
   ]
  },
  {
   "cell_type": "code",
   "execution_count": 7,
   "id": "1e91e432-2083-497b-b2bf-37d72e3e2eef",
   "metadata": {},
   "outputs": [],
   "source": [
    "def matchBroadCategory(catList):\n",
    "    for broadCat, keywords in categoryMap.items():\n",
    "        if any(cat in keywords for cat in catList):\n",
    "            return broadCat\n",
    "    return \"other\"\n",
    "\n",
    "bsdf[\"broadCategory\"] = bsdf[\"categoryList\"].apply(matchBroadCategory)\n"
   ]
  },
  {
   "cell_type": "code",
   "execution_count": 8,
   "id": "aac8e5e5-43c9-4f30-bb0e-cf645ea5529e",
   "metadata": {},
   "outputs": [],
   "source": [
    "fileName = 'files/categorized.csv'\n",
    "bsdf[['name','categoryList','broadCategory']].to_csv(fileName)"
   ]
  },
  {
   "cell_type": "code",
   "execution_count": 9,
   "id": "97952fa4-e0dd-4fd0-a3cf-b4bbe5f79fa7",
   "metadata": {},
   "outputs": [
    {
     "data": {
      "text/plain": [
       "Index(['review_id', 'user_id', 'business_id', 'stars', 'useful', 'funny',\n",
       "       'cool', 'text', 'date'],\n",
       "      dtype='object')"
      ]
     },
     "execution_count": 9,
     "metadata": {},
     "output_type": "execute_result"
    }
   ],
   "source": [
    "# Reviews to looks at\n",
    "sample_size = 10000\n",
    "reviews = []\n",
    "with open(rwpath, 'r', encoding='utf-8') as f:\n",
    "    for i, line in enumerate(f):\n",
    "        if i >= sample_size:\n",
    "            break\n",
    "        reviews.append(json.loads(line))\n",
    "\n",
    "rdf = pd.DataFrame(reviews)\n",
    "rdf.columns"
   ]
  },
  {
   "cell_type": "code",
   "execution_count": 43,
   "id": "b98fca39-ed38-4c08-a912-c47f0e803266",
   "metadata": {},
   "outputs": [],
   "source": [
    "# load the datasets\n",
    "bsdf = pd.read_json(bspath, lines=True)\n",
    "# now I'm going to process the attributes in the business json\n",
    "attDf = bsdf.dropna(subset=['attributes']).copy()"
   ]
  },
  {
   "cell_type": "code",
   "execution_count": 68,
   "id": "81aa4e6a-5288-4fec-b365-ee276cc80424",
   "metadata": {},
   "outputs": [],
   "source": [
    "attDf = bsdf.dropna(subset=['attributes']).copy()\n",
    "attDf = attDf.attributes\n",
    "attDf = pd.json_normalize(attDf, sep = '_')\n",
    "\n",
    "import ast\n",
    "\n",
    "for col in attDf.columns:\n",
    "    if attDf[col].apply(lambda x: isinstance(x, str) and x.strip().startswith('{')).any():\n",
    "        attDf[col] = attDf[col].apply(lambda x: ast.literal_eval(x) if isinstance(x, str) else x)\n",
    "\n",
    "# Find columns with nested dicts\n",
    "nested_cols = [col for col in attDf.columns if isinstance(attDf.dropna(subset=[col])[col].iloc[0], dict)]\n",
    "\n",
    "# Flatten each nested dict into new columns\n",
    "for col in nested_cols:\n",
    "    nested_df = pd.json_normalize(attDf[col])\n",
    "    nested_df.columns = [f\"{col}_{subcol}\" for subcol in nested_df.columns]\n",
    "    attDf = attDf.drop(columns=[col]).join(nested_df)\n",
    "\n",
    "# print(attDf.dtypes)"
   ]
  },
  {
   "cell_type": "code",
   "execution_count": 69,
   "id": "91312e65-64a6-4d2e-8d06-3f1cdf5459e0",
   "metadata": {},
   "outputs": [],
   "source": [
    "attDf.to_csv('files/att.csv')"
   ]
  },
  {
   "cell_type": "code",
   "execution_count": 71,
   "id": "98fd7b8f-bd2e-4822-a62a-47ec847ef02b",
   "metadata": {},
   "outputs": [
    {
     "name": "stdout",
     "output_type": "stream",
     "text": [
      "0                             {'ByAppointmentOnly': 'True'}\n",
      "1                    {'BusinessAcceptsCreditCards': 'True'}\n",
      "2         {'BikeParking': 'True', 'BusinessAcceptsCredit...\n",
      "3         {'RestaurantsDelivery': 'False', 'OutdoorSeati...\n",
      "4         {'BusinessAcceptsCreditCards': 'True', 'Wheelc...\n",
      "                                ...                        \n",
      "150341    {'ByAppointmentOnly': 'False', 'RestaurantsPri...\n",
      "150342    {'BusinessAcceptsCreditCards': 'True', 'Restau...\n",
      "150343    {'RestaurantsPriceRange2': '1', 'BusinessAccep...\n",
      "150344    {'BusinessParking': '{'garage': False, 'street...\n",
      "150345    {'WheelchairAccessible': 'True', 'BusinessAcce...\n",
      "Name: attributes, Length: 150346, dtype: object\n"
     ]
    }
   ],
   "source": [
    "print(bsdf.attributes)"
   ]
  },
  {
   "cell_type": "code",
   "execution_count": null,
   "id": "f9146892-79e0-4b8e-b6d0-7648c5e02e32",
   "metadata": {},
   "outputs": [],
   "source": []
  }
 ],
 "metadata": {
  "kernelspec": {
   "display_name": "Python 3 (ipykernel)",
   "language": "python",
   "name": "python3"
  },
  "language_info": {
   "codemirror_mode": {
    "name": "ipython",
    "version": 3
   },
   "file_extension": ".py",
   "mimetype": "text/x-python",
   "name": "python",
   "nbconvert_exporter": "python",
   "pygments_lexer": "ipython3",
   "version": "3.12.4"
  }
 },
 "nbformat": 4,
 "nbformat_minor": 5
}
