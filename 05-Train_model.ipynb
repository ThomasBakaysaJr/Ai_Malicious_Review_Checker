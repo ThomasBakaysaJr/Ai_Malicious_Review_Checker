{
 "cells": [
  {
   "cell_type": "code",
   "execution_count": 1,
   "id": "91a82cea-090f-453d-9076-7173be3cb33b",
   "metadata": {},
   "outputs": [],
   "source": [
    "import time\n",
    "import joblib\n",
    "import lightgbm as lgb\n",
    "import numpy as np\n",
    "import pandas as pd\n",
    "from sklearn.metrics import classification_report"
   ]
  },
  {
   "cell_type": "code",
   "execution_count": 2,
   "id": "a3750a1f-8ff4-4e67-a59b-f2c9393f6ea8",
   "metadata": {},
   "outputs": [
    {
     "name": "stdout",
     "output_type": "stream",
     "text": [
      "X_train shape : (503656, 346)\n",
      "X_test shape : (125914, 346)\n",
      "y_train shape : (503656,)\n",
      "y_test shape : (125914,)\n"
     ]
    }
   ],
   "source": [
    "# actually training the LightBGM model\n",
    "xtrain_path = 'models/X_train.npy'\n",
    "xtest_path = 'models/X_test.npy'\n",
    "ytrain_path = 'models/y_train.npy'\n",
    "ytest_path = 'models/y_test.npy'\n",
    "cat_ind_path = 'models/cat_ind.npy'\n",
    "\n",
    "light_model = 'models/light_trained.pkl'\n",
    "\n",
    "X_train = np.load(xtrain_path)\n",
    "X_test = np.load(xtest_path)\n",
    "y_train = np.load(ytrain_path)\n",
    "y_test = np.load(ytest_path)\n",
    "categorical_features_indices = list(np.load(cat_ind_path))\n",
    "categorical_features_indices = [int(i) for i in categorical_features_indices]\n",
    "\n",
    "print(f'X_train shape : {X_train.shape}')\n",
    "print(f'X_test shape : {X_test.shape}')\n",
    "print(f'y_train shape : {y_train.shape}')\n",
    "print(f'y_test shape : {y_test.shape}')\n",
    "\n",
    "verbose = True"
   ]
  },
  {
   "cell_type": "code",
   "execution_count": 3,
   "id": "81e33c3b-5294-48c3-9fd1-4fcb452a0f6f",
   "metadata": {},
   "outputs": [
    {
     "name": "stdout",
     "output_type": "stream",
     "text": [
      "Starting training\n",
      "[LightGBM] [Warning] Met negative value in categorical features, will convert it to NaN\n",
      "[LightGBM] [Warning] Met negative value in categorical features, will convert it to NaN\n",
      "[LightGBM] [Warning] Met negative value in categorical features, will convert it to NaN\n",
      "[LightGBM] [Warning] Met negative value in categorical features, will convert it to NaN\n",
      "[LightGBM] [Warning] Met negative value in categorical features, will convert it to NaN\n",
      "[LightGBM] [Warning] Met negative value in categorical features, will convert it to NaN\n",
      "[LightGBM] [Warning] Met negative value in categorical features, will convert it to NaN\n",
      "[LightGBM] [Warning] Met negative value in categorical features, will convert it to NaN\n",
      "[LightGBM] [Warning] Met negative value in categorical features, will convert it to NaN\n",
      "[LightGBM] [Warning] Met negative value in categorical features, will convert it to NaN\n",
      "[LightGBM] [Warning] Met negative value in categorical features, will convert it to NaN\n",
      "[LightGBM] [Warning] Met negative value in categorical features, will convert it to NaN\n",
      "[LightGBM] [Warning] Met negative value in categorical features, will convert it to NaN\n",
      "[LightGBM] [Warning] Met negative value in categorical features, will convert it to NaN\n",
      "[LightGBM] [Warning] Met negative value in categorical features, will convert it to NaN\n",
      "[LightGBM] [Warning] Met negative value in categorical features, will convert it to NaN\n",
      "[LightGBM] [Warning] Met negative value in categorical features, will convert it to NaN\n",
      "[LightGBM] [Warning] Met negative value in categorical features, will convert it to NaN\n",
      "[LightGBM] [Warning] Met negative value in categorical features, will convert it to NaN\n",
      "[LightGBM] [Warning] Met negative value in categorical features, will convert it to NaN\n",
      "[LightGBM] [Warning] Met negative value in categorical features, will convert it to NaN\n",
      "[LightGBM] [Warning] Met negative value in categorical features, will convert it to NaN\n",
      "[LightGBM] [Warning] Met negative value in categorical features, will convert it to NaN\n",
      "[LightGBM] [Warning] Met negative value in categorical features, will convert it to NaN\n",
      "[LightGBM] [Warning] Met negative value in categorical features, will convert it to NaN\n",
      "[LightGBM] [Warning] Met negative value in categorical features, will convert it to NaN\n",
      "[LightGBM] [Warning] Met negative value in categorical features, will convert it to NaN\n",
      "[LightGBM] [Warning] Met negative value in categorical features, will convert it to NaN\n",
      "[LightGBM] [Warning] Met negative value in categorical features, will convert it to NaN\n",
      "[LightGBM] [Warning] Met negative value in categorical features, will convert it to NaN\n",
      "[LightGBM] [Warning] Met negative value in categorical features, will convert it to NaN\n",
      "[LightGBM] [Warning] Met negative value in categorical features, will convert it to NaN\n",
      "[LightGBM] [Warning] Met negative value in categorical features, will convert it to NaN\n",
      "[LightGBM] [Warning] Met negative value in categorical features, will convert it to NaN\n",
      "[LightGBM] [Warning] Met negative value in categorical features, will convert it to NaN\n",
      "[LightGBM] [Warning] Met negative value in categorical features, will convert it to NaN\n",
      "[LightGBM] [Warning] Met negative value in categorical features, will convert it to NaN\n",
      "[LightGBM] [Info] Number of positive: 208580, number of negative: 295076\n",
      "[LightGBM] [Info] Auto-choosing col-wise multi-threading, the overhead of testing was 0.597727 seconds.\n",
      "You can set `force_col_wise=true` to remove the overhead.\n",
      "[LightGBM] [Info] Total Bins 77420\n",
      "[LightGBM] [Info] Number of data points in the train set: 503656, number of used features: 346\n",
      "[LightGBM] [Info] [binary:BoostFromScore]: pavg=0.414132 -> initscore=-0.346910\n",
      "[LightGBM] [Info] Start training from score -0.346910\n",
      "Training until validation scores don't improve for 50 rounds\n",
      "Did not meet early stopping. Best iteration is:\n",
      "[996]\tvalid_0's binary_logloss: 0.000754846\n",
      "Finished training after 190.4521987438202 seconds.\n"
     ]
    }
   ],
   "source": [
    "early_stopping_callback = lgb.early_stopping(stopping_rounds = 50, verbose = True)\n",
    "lgbm = lgb.LGBMClassifier(objective = 'binary',\n",
    "                          metric = 'binary_logloss',\n",
    "                          n_estimators = 1000, # tuneable\n",
    "                          learning_rate = 0.05, # tuneable\n",
    "                          num_leaves = 31, # tuneable\n",
    "                          max_depth = -1, # no limit on tree depth (hmmmm....)\n",
    "                          random_state = 42,\n",
    "                          n_jobs = -1) # use all cores\n",
    "\n",
    "print('Starting training')\n",
    "t0 = time.time()\n",
    "\n",
    "lgbm.fit(X_train, y_train,\n",
    "         categorical_feature = categorical_features_indices,\n",
    "         eval_set = [(X_test, y_test)],\n",
    "         callbacks = [early_stopping_callback])\n",
    "\n",
    "if verbose:\n",
    "    print(f'Finished training after {time.time() - t0} seconds.')"
   ]
  },
  {
   "cell_type": "code",
   "execution_count": null,
   "id": "db995f72-37ae-404a-ac56-d24e8e29f7e5",
   "metadata": {},
   "outputs": [],
   "source": []
  }
 ],
 "metadata": {
  "kernelspec": {
   "display_name": "Python 3 (ipykernel)",
   "language": "python",
   "name": "python3"
  },
  "language_info": {
   "codemirror_mode": {
    "name": "ipython",
    "version": 3
   },
   "file_extension": ".py",
   "mimetype": "text/x-python",
   "name": "python",
   "nbconvert_exporter": "python",
   "pygments_lexer": "ipython3",
   "version": "3.10.16"
  }
 },
 "nbformat": 4,
 "nbformat_minor": 5
}
