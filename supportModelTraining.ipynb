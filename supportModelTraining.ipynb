{
 "cells": [
  {
   "cell_type": "code",
   "execution_count": 1,
   "id": "aabef8ca-41ba-403c-9bb5-e716aab2b398",
   "metadata": {},
   "outputs": [
    {
     "name": "stdout",
     "output_type": "stream",
     "text": [
      "Requirement already satisfied: scikit-learn in /home/thomas/miniconda3/envs/data/lib/python3.10/site-packages (1.6.1)\n",
      "Requirement already satisfied: numpy>=1.19.5 in /home/thomas/miniconda3/envs/data/lib/python3.10/site-packages (from scikit-learn) (2.2.5)\n",
      "Requirement already satisfied: scipy>=1.6.0 in /home/thomas/miniconda3/envs/data/lib/python3.10/site-packages (from scikit-learn) (1.15.2)\n",
      "Requirement already satisfied: joblib>=1.2.0 in /home/thomas/miniconda3/envs/data/lib/python3.10/site-packages (from scikit-learn) (1.4.2)\n",
      "Requirement already satisfied: threadpoolctl>=3.1.0 in /home/thomas/miniconda3/envs/data/lib/python3.10/site-packages (from scikit-learn) (3.6.0)\n"
     ]
    }
   ],
   "source": []
  },
  {
   "cell_type": "code",
   "execution_count": 2,
   "id": "ef562cd8-dfb1-4ebf-8f46-8c50e7d68288",
   "metadata": {},
   "outputs": [],
   "source": [
    "import pandas as pd\n",
    "import numpy as np\n",
    "import string\n",
    "from sklearn.model_selection import train_test_split\n",
    "from sklearn.svm import LinearSVC\n",
    "from sklearn.metrics import classification_report\n",
    "from sklearn.feature_extraction.text import TfidfVectorizer\n",
    "from IPython.display import display\n",
    "from scipy.sparse import hstack\n",
    "\n",
    "pd.set_option('future.no_silent_downcasting', True)\n",
    "\n",
    "verbose = True"
   ]
  },
  {
   "cell_type": "code",
   "execution_count": 3,
   "id": "9f3075d5-5083-4eda-8d8a-68b02251f7ff",
   "metadata": {},
   "outputs": [
    {
     "name": "stdout",
     "output_type": "stream",
     "text": [
      "Initial columns are Index(['category', 'rating', 'label', 'text_'], dtype='object')\n",
      "\n",
      "Current dataframe\n"
     ]
    },
    {
     "data": {
      "text/html": [
       "<div>\n",
       "<style scoped>\n",
       "    .dataframe tbody tr th:only-of-type {\n",
       "        vertical-align: middle;\n",
       "    }\n",
       "\n",
       "    .dataframe tbody tr th {\n",
       "        vertical-align: top;\n",
       "    }\n",
       "\n",
       "    .dataframe thead th {\n",
       "        text-align: right;\n",
       "    }\n",
       "</style>\n",
       "<table border=\"1\" class=\"dataframe\">\n",
       "  <thead>\n",
       "    <tr style=\"text-align: right;\">\n",
       "      <th></th>\n",
       "      <th>rating</th>\n",
       "      <th>label</th>\n",
       "      <th>text_</th>\n",
       "    </tr>\n",
       "  </thead>\n",
       "  <tbody>\n",
       "    <tr>\n",
       "      <th>0</th>\n",
       "      <td>1.0</td>\n",
       "      <td>1</td>\n",
       "      <td>love this  well made sturdy and very comfortab...</td>\n",
       "    </tr>\n",
       "    <tr>\n",
       "      <th>1</th>\n",
       "      <td>1.0</td>\n",
       "      <td>1</td>\n",
       "      <td>love it a great upgrade from the original  ive...</td>\n",
       "    </tr>\n",
       "    <tr>\n",
       "      <th>2</th>\n",
       "      <td>1.0</td>\n",
       "      <td>1</td>\n",
       "      <td>this pillow saved my back i love the look and ...</td>\n",
       "    </tr>\n",
       "    <tr>\n",
       "      <th>3</th>\n",
       "      <td>0.2</td>\n",
       "      <td>1</td>\n",
       "      <td>missing information on how to use it but it is...</td>\n",
       "    </tr>\n",
       "    <tr>\n",
       "      <th>4</th>\n",
       "      <td>1.0</td>\n",
       "      <td>1</td>\n",
       "      <td>very nice set good quality we have had the set...</td>\n",
       "    </tr>\n",
       "  </tbody>\n",
       "</table>\n",
       "</div>"
      ],
      "text/plain": [
       "   rating  label                                              text_\n",
       "0     1.0      1  love this  well made sturdy and very comfortab...\n",
       "1     1.0      1  love it a great upgrade from the original  ive...\n",
       "2     1.0      1  this pillow saved my back i love the look and ...\n",
       "3     0.2      1  missing information on how to use it but it is...\n",
       "4     1.0      1  very nice set good quality we have had the set..."
      ]
     },
     "metadata": {},
     "output_type": "display_data"
    }
   ],
   "source": [
    "# converts to lowercase and strip punctuation\n",
    "def clean_text(text):\n",
    "    text = text.lower()\n",
    "    text = text.translate(str.maketrans('','', string.punctuation))\n",
    "    return text\n",
    "\n",
    "# training the fake reviews model to an acceptable accuracy.\n",
    "# load the file\n",
    "fakeDf = pd.read_csv('reviews/fakeReviews/fakeReviews.csv')\n",
    "if verbose:\n",
    "    print(f'Initial columns are {fakeDf.columns}')\n",
    "\n",
    "# some preprocessing\n",
    "\n",
    "# convert labels to binary\n",
    "# fake will be 1 (the target we're looking for)\n",
    "fakeDf['label'] = fakeDf['label'].replace(['CG','OR'], [1,0])\n",
    "\n",
    "\n",
    "\n",
    "# convert text to lower case and strip punctuation\n",
    "fakeDf['text_'] = fakeDf['text_'].apply(clean_text)\n",
    "\n",
    "# normalize ratings\n",
    "fakeDf['rating'] = fakeDf['rating'] / 5.0\n",
    "\n",
    "# remove category (not relevant for the yelp dataset, mismatch.)\n",
    "fakeDf.drop('category', inplace=True, axis=1)\n",
    "\n",
    "fakeDf = fakeDf.convert_dtypes()\n",
    "\n",
    "if verbose:\n",
    "    print('\\nCurrent dataframe')\n",
    "    display(fakeDf.head(5))"
   ]
  },
  {
   "cell_type": "code",
   "execution_count": 5,
   "id": "4842429d-3e9b-4c2f-8f74-ae6d482f2aa1",
   "metadata": {
    "scrolled": true
   },
   "outputs": [
    {
     "name": "stdout",
     "output_type": "stream",
     "text": [
      "(40432, 51256)\n"
     ]
    }
   ],
   "source": [
    "# vectorize with tf-idf\n",
    "vizer = TfidfVectorizer()\n",
    "\n",
    "xText = vizer.fit_transform(fakeDf['text_'])\n",
    "\n",
    "if verbose:\n",
    "    print(xText.shape)"
   ]
  },
  {
   "cell_type": "code",
   "execution_count": 7,
   "id": "7d31cd57-bf3e-4aaf-9347-d07679a248c0",
   "metadata": {},
   "outputs": [],
   "source": [
    "# combine the sparse matrix with the dense ratings column\n",
    "\n",
    "# turn into 2d array\n",
    "rateFeature = fakeDf['rating'].values.reshape(-1,1)\n",
    "\n",
    "# combine ratings and vectorized text\n",
    "# data\n",
    "X = hstack([xText, rateFeature])\n",
    "\n",
    "# target labels\n",
    "y = fakeDf['label']"
   ]
  },
  {
   "cell_type": "code",
   "execution_count": null,
   "id": "120425e4-6867-40b9-97fb-905f4b875440",
   "metadata": {},
   "outputs": [],
   "source": [
    "Xtrain"
   ]
  }
 ],
 "metadata": {
  "kernelspec": {
   "display_name": "Python 3 (ipykernel)",
   "language": "python",
   "name": "python3"
  },
  "language_info": {
   "codemirror_mode": {
    "name": "ipython",
    "version": 3
   },
   "file_extension": ".py",
   "mimetype": "text/x-python",
   "name": "python",
   "nbconvert_exporter": "python",
   "pygments_lexer": "ipython3",
   "version": "3.10.16"
  }
 },
 "nbformat": 4,
 "nbformat_minor": 5
}
